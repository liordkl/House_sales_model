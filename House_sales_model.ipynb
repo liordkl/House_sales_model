{
  "cells": [
    {
      "cell_type": "markdown",
      "metadata": {
        "id": "view-in-github",
        "colab_type": "text"
      },
      "source": [
        "<a href=\"https://colab.research.google.com/github/liordkl/House_sales_model/blob/main/House_sales_model.ipynb\" target=\"_parent\"><img src=\"https://colab.research.google.com/assets/colab-badge.svg\" alt=\"Open In Colab\"/></a>"
      ]
    },
    {
      "cell_type": "markdown",
      "id": "e33eda06-7d7d-445e-8cd0-60b4d4b13afb",
      "metadata": {
        "id": "e33eda06-7d7d-445e-8cd0-60b4d4b13afb"
      },
      "source": [
        "# Practical Exam: House sales\n",
        "\n",
        "RealAgents is a real estate company that focuses on selling houses.\n",
        "\n",
        "RealAgents sells a variety of types of house in one metropolitan area.\n",
        "\n",
        "Some houses sell slowly and sometimes require lowering the price in order to find a buyer.\n",
        "\n",
        "In order to stay competitive, RealAgents would like to optimize the listing prices of the houses it is trying to sell.\n",
        "\n",
        "They want to do this by predicting the sale price of a house given its characteristics.\n",
        "\n",
        "If they can predict the sale price in advance, they can decrease the time to sale.\n",
        "\n",
        "\n",
        "## Data\n",
        "\n",
        "The dataset contains records of previous houses sold in the area.\n",
        "\n",
        "| Column Name | Criteria                                                |\n",
        "|-------------|---------------------------------------------------------|\n",
        "| house_id    | Nominal. </br> Unique identifier for houses. </br>Missing values not possible. |\n",
        "| city        | Nominal. </br>The city in which the house is located. One of 'Silvertown', 'Riverford', 'Teasdale' and 'Poppleton'. </br>Replace missing values with \"Unknown\". |\n",
        "| sale_price  | Discrete. </br>The sale price of the house in whole dollars. Values can be any positive number greater than or equal to zero.</br>Remove missing entries. |\n",
        "| sale_date   | Discrete. </br>The date of the last sale of the house. </br>Replace missing values with 2023-01-01. |\n",
        "| months_listed  | Continuous. </br>The number of months the house was listed on the market prior to its last sale, rounded to one decimal place. </br>Replace missing values with mean number of months listed, to one decimal place. |\n",
        "| bedrooms    | Discrete. </br>The number of bedrooms in the house. Any positive values greater than or equal to zero. </br>Replace missing values with the mean number of bedrooms, rounded to the nearest integer. |\n",
        "| house_type   | Ordinal. </br>One of \"Terraced\" (two shared walls), \"Semi-detached\" (one shared wall), or \"Detached\" (no shared walls). </br>Replace missing values with the most common house type. |\n",
        "| area      | Continuous. </br>The area of the house in square meters, rounded to one decimal place. </br>Replace missing values with the mean, to one decimal place. |\n"
      ]
    },
    {
      "cell_type": "markdown",
      "id": "ce597564-6bd3-4f54-830b-d5bac083c04a",
      "metadata": {
        "id": "ce597564-6bd3-4f54-830b-d5bac083c04a"
      },
      "source": [
        "# Task 1\n",
        "\n",
        "The team at RealAgents knows that the city that a property is located in makes a difference to the sale price.\n",
        "\n",
        "Unfortuntately they believe that this isn't always recorded in the data.\n",
        "\n",
        "Calculate the number of missing values of the `city`.\n",
        "\n",
        " - You should use the data in the file \"house_sales.csv\".\n",
        "\n",
        " - Your output should be an object `missing_city`, that contains the number of missing values in this column."
      ]
    },
    {
      "cell_type": "code",
      "execution_count": null,
      "metadata": {
        "id": "qnmeb9duxuII"
      },
      "outputs": [],
      "source": [
        "# Use this cell to write your code for Task 1\n",
        "import pandas as pd\n",
        "\n",
        "# Load the dataset\n",
        "house_sales = pd.read_csv('house_sales.csv')\n",
        "\n",
        "# Calculate the number of missing values in the 'city' column\n",
        "missing_city = house_sales['city'].isna().sum()\n",
        "missing_city"
      ],
      "id": "qnmeb9duxuII"
    },
    {
      "cell_type": "markdown",
      "id": "5045c039-b353-46ba-87b9-af63aaa4abf3",
      "metadata": {
        "id": "5045c039-b353-46ba-87b9-af63aaa4abf3"
      },
      "source": [
        "# Task 2\n",
        "\n",
        "Before you fit any models, you will need to make sure the data is clean.\n",
        "\n",
        "The table below shows what the data should look like.\n",
        "\n",
        "Create a cleaned version of the dataframe.\n",
        "\n",
        " - You should start with the data in the file \"house_sales.csv\".\n",
        "\n",
        " - Your output should be a dataframe named `clean_data`.\n",
        "\n",
        " - All column names and values should match the table below.\n",
        "\n",
        "\n",
        "| Column Name | Criteria                                                |\n",
        "|-------------|---------------------------------------------------------|\n",
        "| house_id    | Nominal. </br> Unique identifier for houses. </br>Missing values not possible. |\n",
        "| city        | Nominal. </br>The city in which the house is located. One of 'Silvertown', 'Riverford', 'Teasdale' and 'Poppleton' </br>Replace missing values with \"Unknown\". |\n",
        "| sale_price  | Discrete. </br>The sale price of the house in whole dollars. Values can be any positive number greater than or equal to zero.</br>Remove missing entries. |\n",
        "| sale_date   | Discrete. </br>The date of the last sale of the house. </br>Replace missing values with 2023-01-01. |\n",
        "| months_listed  | Continuous. </br>The number of months the house was listed on the market prior to its last sale, rounded to one decimal place. </br>Replace missing values with mean number of months listed, to one decimal place. |\n",
        "| bedrooms    | Discrete. </br>The number of bedrooms in the house. Any positive values greater than or equal to zero. </br>Replace missing values with the mean number of bedrooms, rounded to the nearest integer. |\n",
        "| house_type   | Ordinal. </br>One of \"Terraced\", \"Semi-detached\", or \"Detached\". </br>Replace missing values with the most common house type. |\n",
        "| area      | Continuous. </br>The area of the house in square meters, rounded to one decimal place. </br>Replace missing values with the mean, to one decimal place. |"
      ]
    },
    {
      "cell_type": "code",
      "execution_count": null,
      "id": "dc9c2344-a350-461c-b5db-40768b2165a5",
      "metadata": {
        "executionCancelledAt": null,
        "executionTime": 48,
        "lastExecutedAt": 1699576583818,
        "lastScheduledRunId": null,
        "lastSuccessfullyExecutedCode": "# Use this cell to write your code for Task 2\nimport pandas as pd\n\ndef transform_data(data):\n    # Transform 'city' column\n    data['city'].fillna('Unknown', inplace=True)\n    data['city'] = data['city'].astype('category')\n\n    # Transform 'sale_date' column\n    data['sale_date'].fillna('2023-01-01', inplace=True)\n\n    # Transform 'months_listed' column\n    mean_months_listed = data['months_listed'].mean()\n    data['months_listed'].fillna(round(mean_months_listed, 1), inplace=True)\n\n    # Transform 'bedrooms' column\n    mean_bedrooms = data['bedrooms'].mean()\n    data['bedrooms'].fillna(round(mean_bedrooms), inplace=True)\n\n    # Transform 'house_type' column\n    category_order = ['Terraced', 'Semi-detached', 'Detached']\n    \n    # Convert 'house_type' column to ordinal categorical data\n    data['house_type'] = pd.Categorical(data['house_type'], categories=category_order, ordered=True)\n    most_common_house_type = data['house_type'].mode()[0]\n    data['house_type'].fillna(most_common_house_type, inplace=True)\n\n    # Transform 'area' column\n    data['area'] = data['area'].str.replace(' sq.m.', '').astype(float)\n    mean_area = data['area'].mean()\n    data['area'].fillna(round(mean_area, 1), inplace=True)\n\n    return data\n\n\ndata = pd.read_csv('house_sales.csv')\n\n# Apply transformations to the training and validation data\nclean_data = transform_data(data)\n\nprint(clean_data.info())",
        "outputsMetadata": {
          "0": {
            "height": 329,
            "type": "stream"
          }
        },
        "id": "dc9c2344-a350-461c-b5db-40768b2165a5",
        "outputId": "48500a82-22d6-4b36-b4a6-56ebe418cea3"
      },
      "outputs": [
        {
          "name": "stdout",
          "output_type": "stream",
          "text": [
            "<class 'pandas.core.frame.DataFrame'>\n",
            "RangeIndex: 1500 entries, 0 to 1499\n",
            "Data columns (total 8 columns):\n",
            " #   Column         Non-Null Count  Dtype   \n",
            "---  ------         --------------  -----   \n",
            " 0   house_id       1500 non-null   int64   \n",
            " 1   city           1500 non-null   category\n",
            " 2   sale_price     1500 non-null   int64   \n",
            " 3   sale_date      1500 non-null   object  \n",
            " 4   months_listed  1500 non-null   float64 \n",
            " 5   bedrooms       1500 non-null   int64   \n",
            " 6   house_type     1500 non-null   category\n",
            " 7   area           1500 non-null   float64 \n",
            "dtypes: category(2), float64(2), int64(3), object(1)\n",
            "memory usage: 73.7+ KB\n",
            "None\n"
          ]
        }
      ],
      "source": [
        "# Use this cell to write your code for Task 2\n",
        "import pandas as pd\n",
        "\n",
        "def transform_data(data):\n",
        "    # Transform 'city' column\n",
        "    data['city'].fillna('Unknown', inplace=True)\n",
        "    data['city'] = data['city'].astype('category')\n",
        "\n",
        "    # Transform 'sale_date' column\n",
        "    data['sale_date'].fillna('2023-01-01', inplace=True)\n",
        "\n",
        "    # Transform 'months_listed' column\n",
        "    mean_months_listed = data['months_listed'].mean()\n",
        "    data['months_listed'].fillna(round(mean_months_listed, 1), inplace=True)\n",
        "\n",
        "    # Transform 'bedrooms' column\n",
        "    mean_bedrooms = data['bedrooms'].mean()\n",
        "    data['bedrooms'].fillna(round(mean_bedrooms), inplace=True)\n",
        "\n",
        "    # Transform 'house_type' column\n",
        "    category_order = ['Terraced', 'Semi-detached', 'Detached']\n",
        "\n",
        "    # Convert 'house_type' column to ordinal categorical data\n",
        "    data['house_type'] = pd.Categorical(data['house_type'], categories=category_order, ordered=True)\n",
        "    most_common_house_type = data['house_type'].mode()[0]\n",
        "    data['house_type'].fillna(most_common_house_type, inplace=True)\n",
        "\n",
        "    # Transform 'area' column\n",
        "    data['area'] = data['area'].str.replace(' sq.m.', '').astype(float)\n",
        "    mean_area = data['area'].mean()\n",
        "    data['area'].fillna(round(mean_area, 1), inplace=True)\n",
        "\n",
        "    return data\n",
        "\n",
        "\n",
        "data = pd.read_csv('house_sales.csv')\n",
        "\n",
        "# Apply transformations to the training and validation data\n",
        "clean_data = transform_data(data)"
      ]
    },
    {
      "cell_type": "markdown",
      "id": "ff3c2889-66f3-4a6b-acac-2b12626e3244",
      "metadata": {
        "id": "ff3c2889-66f3-4a6b-acac-2b12626e3244"
      },
      "source": [
        "# Task 3\n",
        "\n",
        "The team at RealAgents have told you that they have always believed that the number of bedrooms is the biggest driver of house price.\n",
        "\n",
        "Producing a table showing the difference in the average sale price by number of bedrooms along with the variance to investigate this question for the team.\n",
        "\n",
        " - You should start with the data in the file 'house_sales.csv'.\n",
        "\n",
        " - Your output should be a data frame named `price_by_rooms`.\n",
        "\n",
        " - It should include the three columns `bedrooms`, `avg_price`, `var_price`.\n",
        "\n",
        " - Your answers should be rounded to 1 decimal place.   "
      ]
    },
    {
      "cell_type": "code",
      "execution_count": null,
      "id": "ea512a1c-e512-4f2e-8d78-323e51d01407",
      "metadata": {
        "executionCancelledAt": null,
        "executionTime": 51,
        "lastExecutedAt": 1699575830465,
        "lastScheduledRunId": null,
        "lastSuccessfullyExecutedCode": "# Use this cell to write your code for Task 3\n\nimport pandas as pd\n\n# Load the dataset\ndata = pd.read_csv('house_sales.csv')\n\n# Convert 'sale_price' to numeric (in case it's not already)\ndata['sale_price'] = pd.to_numeric(data['sale_price'], errors='coerce')\n\n# Calculate average sale price and variance by number of bedrooms\nprice_by_rooms = data.groupby('bedrooms')['sale_price'].agg(['mean', 'var']).reset_index()\nprice_by_rooms = price_by_rooms.rename(columns={'mean': 'avg_price', 'var': 'var_price'})\n\n# Round the values to one decimal place\nprice_by_rooms['avg_price'] = price_by_rooms['avg_price'].round(1)\nprice_by_rooms['var_price'] = price_by_rooms['var_price'].round(1)\n\n# Display the resulting table\nprint(price_by_rooms)",
        "outputsMetadata": {
          "0": {
            "height": 134,
            "type": "stream"
          }
        },
        "id": "ea512a1c-e512-4f2e-8d78-323e51d01407",
        "outputId": "92fea04d-e092-427c-d75f-3dfe4cdcd069"
      },
      "outputs": [
        {
          "name": "stdout",
          "output_type": "stream",
          "text": [
            "   bedrooms  avg_price     var_price\n",
            "0         2    67076.4  5.652896e+08\n",
            "1         3   154665.1  2.378289e+09\n",
            "2         4   234704.6  1.725211e+09\n",
            "3         5   301515.9  2.484328e+09\n",
            "4         6   375741.3  3.924432e+09\n"
          ]
        }
      ],
      "source": [
        "# Use this cell to write your code for Task 3\n",
        "\n",
        "import pandas as pd\n",
        "\n",
        "# Load the dataset\n",
        "data = pd.read_csv('house_sales.csv')\n",
        "\n",
        "# Convert 'sale_price' to numeric (in case it's not already)\n",
        "data['sale_price'] = pd.to_numeric(data['sale_price'], errors='coerce')\n",
        "\n",
        "# Calculate average sale price and variance by number of bedrooms\n",
        "price_by_rooms = data.groupby('bedrooms')['sale_price'].agg(['mean', 'var']).reset_index()\n",
        "price_by_rooms = price_by_rooms.rename(columns={'mean': 'avg_price', 'var': 'var_price'})\n",
        "\n",
        "# Round the values to one decimal place\n",
        "price_by_rooms['avg_price'] = price_by_rooms['avg_price'].round(1)\n",
        "price_by_rooms['var_price'] = price_by_rooms['var_price'].round(1)\n",
        "\n",
        "# Display the resulting table\n",
        "print(price_by_rooms)"
      ]
    },
    {
      "cell_type": "markdown",
      "id": "ac7038d1-7a8f-4d97-aef1-36f3f1227374",
      "metadata": {
        "id": "ac7038d1-7a8f-4d97-aef1-36f3f1227374"
      },
      "source": [
        "# Task 4\n",
        "\n",
        "Fit a baseline model to predict the sale price of a house.\n",
        "\n",
        " 1. Fit your model using the data contained in “train.csv” </br></br>\n",
        "\n",
        " 2. Use “validation.csv” to predict new values based on your model. You must return a dataframe named `base_result`, that includes `house_id` and `price`. The price column must be your predicted values."
      ]
    },
    {
      "cell_type": "code",
      "execution_count": null,
      "id": "96496c59-fdd4-4683-9884-551ad93b788f",
      "metadata": {
        "executionCancelledAt": null,
        "executionTime": 57,
        "lastExecutedAt": 1699575830522,
        "lastScheduledRunId": null,
        "lastSuccessfullyExecutedCode": "# Use this cell to write your code for Task 4\n\n# Use this cell to write your code for Task 4\nimport pandas as pd\nfrom sklearn.linear_model import LinearRegression\nfrom sklearn.metrics import mean_squared_error as MSE\n\n# Load the training and validation datasets\ntrain_data = pd.read_csv('train.csv')\nval_data = pd.read_csv('validation.csv')\n\n# Transformation functions\ndef transform_city(data):\n    data['city'].fillna('Unknown', inplace=True)\n\ndef transform_sale_date(data):\n    data['sale_date'].fillna('2023-01-01', inplace=True)\n\ndef transform_months_listed(data):\n    mean_months_listed = data['months_listed'].mean()\n    data['months_listed'].fillna(round(mean_months_listed, 1), inplace=True)\n\ndef transform_bedrooms(data):\n    mean_bedrooms = data['bedrooms'].mean()\n    data['bedrooms'].fillna(round(mean_bedrooms), inplace=True)\n\ndef transform_house_type(data):\n    most_common_house_type = data['house_type'].mode()[0]\n    data['house_type'].fillna(most_common_house_type, inplace=True)\n\ndef transform_area(data):\n    mean_area = data['area'].mean()\n    data['area'].fillna(round(mean_area, 1), inplace=True)\n\n# Apply transformations to the training data\ntransform_city(train_data)\ntransform_sale_date(train_data)\ntransform_months_listed(train_data)\ntransform_bedrooms(train_data)\ntransform_house_type(train_data)\ntransform_area(train_data)\n\n# Apply transformations to the validation data\ntransform_city(val_data)\ntransform_sale_date(val_data)\ntransform_months_listed(val_data)\ntransform_bedrooms(val_data)\ntransform_house_type(val_data)\ntransform_area(val_data)\n\n# Fit a Linear Regression model\nmodel = LinearRegression()\n\n# Encode 'house_type' and 'city' columns\ntrain_data = pd.get_dummies(train_data, columns=['house_type', 'city'])\nval_data = pd.get_dummies(val_data, columns=['house_type', 'city'])\n\n\n# Convert to datetime to get year, month, day\ntrain_data['sale_date'] = pd.to_datetime(train_data['sale_date'])\nval_data['sale_date'] = pd.to_datetime(val_data['sale_date'])\n\n\n# Extract useful date-related features in train_data\ntrain_data['sale_year'] = train_data['sale_date'].dt.year\ntrain_data['sale_month'] = train_data['sale_date'].dt.month\ntrain_data['sale_day'] = train_data['sale_date'].dt.day\n\n# Repeat the same process for val_data\nval_data['sale_date'] = pd.to_datetime(val_data['sale_date'])\nval_data['sale_year'] = val_data['sale_date'].dt.year\nval_data['sale_month'] = val_data['sale_date'].dt.month\nval_data['sale_day'] = val_data['sale_date'].dt.day\n\n# Drop the original 'sale_date' columns\ntrain_data.drop('sale_date', axis=1, inplace=True)\nval_data.drop('sale_date', axis=1, inplace=True)\n\n# Fit model, seperating features and targets\nmodel.fit(train_data.drop('sale_price', axis=1), train_data['sale_price'])\n\n# Make predictions on the validation data\npredicted_prices = model.predict(val_data)\n\n# Create the base_result dataframe with house_id and predicted price\nbase_result = pd.DataFrame({'house_id': val_data['house_id'], 'price': predicted_prices})\n\n# Display the resulting dataframe\nprint(base_result)",
        "outputsMetadata": {
          "0": {
            "height": 290,
            "type": "stream"
          }
        },
        "id": "96496c59-fdd4-4683-9884-551ad93b788f",
        "outputId": "bf981b86-013b-44a4-8a88-8959f30aff63"
      },
      "outputs": [
        {
          "name": "stdout",
          "output_type": "stream",
          "text": [
            "     house_id          price\n",
            "0     1331375  121709.813918\n",
            "1     1630115  304232.551410\n",
            "2     1645745  384418.334267\n",
            "3     1336775  125014.708890\n",
            "4     1888274  270695.083194\n",
            "..        ...            ...\n",
            "295   1986255  349092.841750\n",
            "296   1896276  368686.764539\n",
            "297   1758223  257195.388196\n",
            "298   1752010  169083.390810\n",
            "299   1651404  388790.116582\n",
            "\n",
            "[300 rows x 2 columns]\n"
          ]
        }
      ],
      "source": [
        "# Use this cell to write your code for Task 4\n",
        "\n",
        "# Use this cell to write your code for Task 4\n",
        "import pandas as pd\n",
        "from sklearn.linear_model import LinearRegression\n",
        "from sklearn.metrics import mean_squared_error as MSE\n",
        "\n",
        "# Load the training and validation datasets\n",
        "train_data = pd.read_csv('train.csv')\n",
        "val_data = pd.read_csv('validation.csv')\n",
        "\n",
        "# Transformation functions\n",
        "def transform_city(data):\n",
        "    data['city'].fillna('Unknown', inplace=True)\n",
        "\n",
        "def transform_sale_date(data):\n",
        "    data['sale_date'].fillna('2023-01-01', inplace=True)\n",
        "\n",
        "def transform_months_listed(data):\n",
        "    mean_months_listed = data['months_listed'].mean()\n",
        "    data['months_listed'].fillna(round(mean_months_listed, 1), inplace=True)\n",
        "\n",
        "def transform_bedrooms(data):\n",
        "    mean_bedrooms = data['bedrooms'].mean()\n",
        "    data['bedrooms'].fillna(round(mean_bedrooms), inplace=True)\n",
        "\n",
        "def transform_house_type(data):\n",
        "    most_common_house_type = data['house_type'].mode()[0]\n",
        "    data['house_type'].fillna(most_common_house_type, inplace=True)\n",
        "\n",
        "def transform_area(data):\n",
        "    mean_area = data['area'].mean()\n",
        "    data['area'].fillna(round(mean_area, 1), inplace=True)\n",
        "\n",
        "# Apply transformations to the training data\n",
        "transform_city(train_data)\n",
        "transform_sale_date(train_data)\n",
        "transform_months_listed(train_data)\n",
        "transform_bedrooms(train_data)\n",
        "transform_house_type(train_data)\n",
        "transform_area(train_data)\n",
        "\n",
        "# Apply transformations to the validation data\n",
        "transform_city(val_data)\n",
        "transform_sale_date(val_data)\n",
        "transform_months_listed(val_data)\n",
        "transform_bedrooms(val_data)\n",
        "transform_house_type(val_data)\n",
        "transform_area(val_data)\n",
        "\n",
        "# Fit a Linear Regression model\n",
        "model = LinearRegression()\n",
        "\n",
        "# Encode 'house_type' and 'city' columns\n",
        "train_data = pd.get_dummies(train_data, columns=['house_type', 'city'])\n",
        "val_data = pd.get_dummies(val_data, columns=['house_type', 'city'])\n",
        "\n",
        "\n",
        "# Convert to datetime to get year, month, day\n",
        "train_data['sale_date'] = pd.to_datetime(train_data['sale_date'])\n",
        "val_data['sale_date'] = pd.to_datetime(val_data['sale_date'])\n",
        "\n",
        "\n",
        "# Extract useful date-related features in train_data\n",
        "train_data['sale_year'] = train_data['sale_date'].dt.year\n",
        "train_data['sale_month'] = train_data['sale_date'].dt.month\n",
        "train_data['sale_day'] = train_data['sale_date'].dt.day\n",
        "\n",
        "# Repeat the same process for val_data\n",
        "val_data['sale_date'] = pd.to_datetime(val_data['sale_date'])\n",
        "val_data['sale_year'] = val_data['sale_date'].dt.year\n",
        "val_data['sale_month'] = val_data['sale_date'].dt.month\n",
        "val_data['sale_day'] = val_data['sale_date'].dt.day\n",
        "\n",
        "# Drop the original 'sale_date' columns\n",
        "train_data.drop('sale_date', axis=1, inplace=True)\n",
        "val_data.drop('sale_date', axis=1, inplace=True)\n",
        "\n",
        "# Fit model, seperating features and targets\n",
        "model.fit(train_data.drop('sale_price', axis=1), train_data['sale_price'])\n",
        "\n",
        "# Make predictions on the validation data\n",
        "predicted_prices = model.predict(val_data)\n",
        "\n",
        "# Create the base_result dataframe with house_id and predicted price\n",
        "base_result = pd.DataFrame({'house_id': val_data['house_id'], 'price': predicted_prices})\n",
        "\n",
        "# Display the resulting dataframe\n",
        "print(base_result)"
      ]
    },
    {
      "cell_type": "markdown",
      "id": "7c674c01-d6de-488d-b2e0-bc3bbf87def6",
      "metadata": {
        "id": "7c674c01-d6de-488d-b2e0-bc3bbf87def6"
      },
      "source": [
        "# Task 5\n",
        "\n",
        "Fit a comparison model to predict the sale price of a house.\n",
        "\n",
        " 1. Fit your model using the data contained in “train.csv” </br></br>\n",
        "\n",
        " 2. Use “validation.csv” to predict new values based on your model. You must return a dataframe named `compare_result`, that includes `house_id` and `price`. The price column must be your predicted values."
      ]
    },
    {
      "cell_type": "code",
      "execution_count": null,
      "id": "538ffb3d-4008-49b6-9876-7831e025f5a4",
      "metadata": {
        "executionCancelledAt": null,
        "executionTime": 411,
        "lastExecutedAt": 1699575830933,
        "lastScheduledRunId": null,
        "lastSuccessfullyExecutedCode": "# Use this cell to write your code for Task 5\n# Use this cell to write your code for Task 4\nimport pandas as pd\nfrom sklearn.ensemble import RandomForestRegressor\n\n# Load the training and validation datasets\ntrain_data = pd.read_csv('train.csv')\nval_data = pd.read_csv('validation.csv')\n\n# Transformation functions\ndef transform_city(data):\n    data['city'].fillna('Unknown', inplace=True)\n\ndef transform_sale_date(data):\n    data['sale_date'].fillna('2023-01-01', inplace=True)\n\ndef transform_months_listed(data):\n    mean_months_listed = data['months_listed'].mean()\n    data['months_listed'].fillna(round(mean_months_listed, 1), inplace=True)\n\ndef transform_bedrooms(data):\n    mean_bedrooms = data['bedrooms'].mean()\n    data['bedrooms'].fillna(round(mean_bedrooms), inplace=True)\n\ndef transform_house_type(data):\n    most_common_house_type = data['house_type'].mode()[0]\n    data['house_type'].fillna(most_common_house_type, inplace=True)\n\ndef transform_area(data):\n    mean_area = data['area'].mean()\n    data['area'].fillna(round(mean_area, 1), inplace=True)\n\n# Apply transformations to the training data\ntransform_city(train_data)\ntransform_sale_date(train_data)\ntransform_months_listed(train_data)\ntransform_bedrooms(train_data)\ntransform_house_type(train_data)\ntransform_area(train_data)\n\n# Apply transformations to the validation data\ntransform_city(val_data)\ntransform_sale_date(val_data)\ntransform_months_listed(val_data)\ntransform_bedrooms(val_data)\ntransform_house_type(val_data)\ntransform_area(val_data)\n\n# Fit a Linear Regression model\nmodel = RandomForestRegressor()\n\n# Encode 'house_type' and 'city' columns\ntrain_data = pd.get_dummies(train_data, columns=['house_type', 'city'])\nval_data = pd.get_dummies(val_data, columns=['house_type', 'city'])\n\n\n# Convert to datetime to get year, month, day\ntrain_data['sale_date'] = pd.to_datetime(train_data['sale_date'])\nval_data['sale_date'] = pd.to_datetime(val_data['sale_date'])\n\n\n# Extract useful date-related features in train_data\ntrain_data['sale_year'] = train_data['sale_date'].dt.year\ntrain_data['sale_month'] = train_data['sale_date'].dt.month\ntrain_data['sale_day'] = train_data['sale_date'].dt.day\n\n# Repeat the same process for val_data\nval_data['sale_date'] = pd.to_datetime(val_data['sale_date'])\nval_data['sale_year'] = val_data['sale_date'].dt.year\nval_data['sale_month'] = val_data['sale_date'].dt.month\nval_data['sale_day'] = val_data['sale_date'].dt.day\n\n# Drop the original 'sale_date' columns\ntrain_data.drop('sale_date', axis=1, inplace=True)\nval_data.drop('sale_date', axis=1, inplace=True)\n\n# Fit model, seperating features and targets\nmodel.fit(train_data.drop('sale_price', axis=1), train_data['sale_price'])\n\n# Make predictions on the validation data\npredicted_prices = model.predict(val_data)\n\n# Create the base_result dataframe with house_id and predicted price\ncompare_result = pd.DataFrame({'house_id': val_data['house_id'], 'price': predicted_prices})\n\n# Display the resulting dataframe\nprint(compare_result)",
        "outputsMetadata": {
          "0": {
            "height": 290,
            "type": "stream"
          }
        },
        "id": "538ffb3d-4008-49b6-9876-7831e025f5a4",
        "outputId": "65e2a8a2-d099-41a0-f15c-80307fef7c54"
      },
      "outputs": [
        {
          "name": "stdout",
          "output_type": "stream",
          "text": [
            "     house_id      price\n",
            "0     1331375   80331.93\n",
            "1     1630115  305138.67\n",
            "2     1645745  401210.80\n",
            "3     1336775  104852.30\n",
            "4     1888274  260443.62\n",
            "..        ...        ...\n",
            "295   1986255  357819.75\n",
            "296   1896276  386020.41\n",
            "297   1758223  261667.46\n",
            "298   1752010  174995.56\n",
            "299   1651404  417356.02\n",
            "\n",
            "[300 rows x 2 columns]\n"
          ]
        }
      ],
      "source": [
        "# Use this cell to write your code for Task 5\n",
        "# Use this cell to write your code for Task 4\n",
        "import pandas as pd\n",
        "from sklearn.ensemble import RandomForestRegressor\n",
        "\n",
        "# Load the training and validation datasets\n",
        "train_data = pd.read_csv('train.csv')\n",
        "val_data = pd.read_csv('validation.csv')\n",
        "\n",
        "# Transformation functions\n",
        "def transform_city(data):\n",
        "    data['city'].fillna('Unknown', inplace=True)\n",
        "\n",
        "def transform_sale_date(data):\n",
        "    data['sale_date'].fillna('2023-01-01', inplace=True)\n",
        "\n",
        "def transform_months_listed(data):\n",
        "    mean_months_listed = data['months_listed'].mean()\n",
        "    data['months_listed'].fillna(round(mean_months_listed, 1), inplace=True)\n",
        "\n",
        "def transform_bedrooms(data):\n",
        "    mean_bedrooms = data['bedrooms'].mean()\n",
        "    data['bedrooms'].fillna(round(mean_bedrooms), inplace=True)\n",
        "\n",
        "def transform_house_type(data):\n",
        "    most_common_house_type = data['house_type'].mode()[0]\n",
        "    data['house_type'].fillna(most_common_house_type, inplace=True)\n",
        "\n",
        "def transform_area(data):\n",
        "    mean_area = data['area'].mean()\n",
        "    data['area'].fillna(round(mean_area, 1), inplace=True)\n",
        "\n",
        "# Apply transformations to the training data\n",
        "transform_city(train_data)\n",
        "transform_sale_date(train_data)\n",
        "transform_months_listed(train_data)\n",
        "transform_bedrooms(train_data)\n",
        "transform_house_type(train_data)\n",
        "transform_area(train_data)\n",
        "\n",
        "# Apply transformations to the validation data\n",
        "transform_city(val_data)\n",
        "transform_sale_date(val_data)\n",
        "transform_months_listed(val_data)\n",
        "transform_bedrooms(val_data)\n",
        "transform_house_type(val_data)\n",
        "transform_area(val_data)\n",
        "\n",
        "# Fit a Linear Regression model\n",
        "model = RandomForestRegressor()\n",
        "\n",
        "# Encode 'house_type' and 'city' columns\n",
        "train_data = pd.get_dummies(train_data, columns=['house_type', 'city'])\n",
        "val_data = pd.get_dummies(val_data, columns=['house_type', 'city'])\n",
        "\n",
        "\n",
        "# Convert to datetime to get year, month, day\n",
        "train_data['sale_date'] = pd.to_datetime(train_data['sale_date'])\n",
        "val_data['sale_date'] = pd.to_datetime(val_data['sale_date'])\n",
        "\n",
        "\n",
        "# Extract useful date-related features in train_data\n",
        "train_data['sale_year'] = train_data['sale_date'].dt.year\n",
        "train_data['sale_month'] = train_data['sale_date'].dt.month\n",
        "train_data['sale_day'] = train_data['sale_date'].dt.day\n",
        "\n",
        "# Repeat the same process for val_data\n",
        "val_data['sale_date'] = pd.to_datetime(val_data['sale_date'])\n",
        "val_data['sale_year'] = val_data['sale_date'].dt.year\n",
        "val_data['sale_month'] = val_data['sale_date'].dt.month\n",
        "val_data['sale_day'] = val_data['sale_date'].dt.day\n",
        "\n",
        "# Drop the original 'sale_date' columns\n",
        "train_data.drop('sale_date', axis=1, inplace=True)\n",
        "val_data.drop('sale_date', axis=1, inplace=True)\n",
        "\n",
        "# Fit model, seperating features and targets\n",
        "model.fit(train_data.drop('sale_price', axis=1), train_data['sale_price'])\n",
        "\n",
        "# Make predictions on the validation data\n",
        "predicted_prices = model.predict(val_data)\n",
        "\n",
        "# Create the base_result dataframe with house_id and predicted price\n",
        "compare_result = pd.DataFrame({'house_id': val_data['house_id'], 'price': predicted_prices})\n",
        "\n",
        "# Display the resulting dataframe\n",
        "print(compare_result)"
      ]
    }
  ],
  "metadata": {
    "editor": "DataCamp Workspace",
    "kernelspec": {
      "display_name": "Python 3 (ipykernel)",
      "language": "python",
      "name": "python3"
    },
    "language_info": {
      "codemirror_mode": {
        "name": "ipython",
        "version": 3
      },
      "file_extension": ".py",
      "mimetype": "text/x-python",
      "name": "python",
      "nbconvert_exporter": "python",
      "pygments_lexer": "ipython3",
      "version": "3.12.0"
    },
    "colab": {
      "provenance": [],
      "include_colab_link": true
    }
  },
  "nbformat": 4,
  "nbformat_minor": 5
}